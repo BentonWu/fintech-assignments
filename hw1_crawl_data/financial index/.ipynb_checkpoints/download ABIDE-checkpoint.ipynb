{
 "cells": [
  {
   "cell_type": "code",
   "execution_count": 1,
   "metadata": {},
   "outputs": [],
   "source": [
    "# 讀取 CSV File\n",
    "import pandas as pd # 引用套件並縮寫為 pd"
   ]
  },
  {
   "cell_type": "code",
   "execution_count": 2,
   "metadata": {
    "scrolled": true
   },
   "outputs": [
    {
     "name": "stdout",
     "output_type": "stream",
     "text": [
      "(134, 7)\n"
     ]
    }
   ],
   "source": [
    "df = pd.read_csv('D:\\ABIED_I_4.5-18.5 - 70 - UM.csv')  \n",
    "print(df.shape)"
   ]
  },
  {
   "cell_type": "code",
   "execution_count": 3,
   "metadata": {},
   "outputs": [],
   "source": [
    "import os\n",
    "from os import listdir\n",
    "from urllib.request import urlretrieve"
   ]
  },
  {
   "cell_type": "markdown",
   "metadata": {},
   "source": [
    "## ABIDE Preprocessed Data Download\n",
    "\n",
    "#### URL Template\n",
    "https://s3.amazonaws.com/fcp-indi/data/Projects/ABIDE_Initiative/Outputs/<font color='Red'>pipeline</font>/<font color='DarkOrange'>strategy</font>/<font color='DarkViolet'>derivative</font>/<font color='ForestGreen'>file＿identifier</font>_<font color='DarkViolet'>derivative</font>.<font color='HotPink'>ext</font>\n",
    "Example: [https://s3.amazonaws.com/fcp-indi/data/Projects/ABIDE_Initiative/Outputs/<font color='Red'>cpac</font>/<font color='DarkOrange'>filt_global</font>/<font color='DarkViolet'>alff</font>/<font color='ForestGreen'>OHSU_0050147</font>＿<font color='DarkViolet'>alff</font>.<font color='HotPink'>nii.gz</font>](https://s3.amazonaws.com/fcp-indi/data/Projects/ABIDE_Initiative/Outputs/cpac/filt_global/alff/OHSU_0050147_alff.nii.gz)\n",
    "\n",
    "* <font color='Red'>pipeline</font> = ccs | cpac | dparsf | niak | ants\n",
    "* <font color='DarkOrange'>strategy</font> = filt_global | filt_noglobal | nofilt_global | nofilt_noglobal\n",
    "* <font color='ForestGreen'>file＿identifier</font> = 使用Phenotypic_V0.csv中FILE_ID欄位資料\n",
    "* <font color='DarkViolet'>derivative</font> = alff | degree_binarize | degree_weighted | dual_regression | eigenvector_binarize | eigenvector_weighted | falff | func_mask | func_mean | func_preproc | lfcd | reho | rois_aal | rois_cc200 | rois_cc400 | rois_dosenbach160 | rois_ez | rois_ho | rois_tt | vmhc\n",
    "* <font color='HotPink'>ext</font> = 1D | nii.gz\n",
    "\n",
    "#### strategies\n",
    "\n",
    "Band-Pass Filtering:帶通濾波<br />\n",
    "Global Signal Regression:全域信號回歸\n",
    "\n",
    "|    Strategy     |\tBand-Pass Filtering | Global Signal Regression |\n",
    "|-----------------|---------------------|--------------------------|\n",
    "|   filt_global   |\t        V           |            V             |\n",
    "|  filt_noglobal  |\t        V           |                          |\n",
    "|  nofilt_global  |\t                    |            V             |\n",
    "| nofilt_noglobal |\t                    |                          |"
   ]
  },
  {
   "cell_type": "code",
   "execution_count": 25,
   "metadata": {},
   "outputs": [],
   "source": [
    "#參數設定\n",
    "pipeline = 'niak'\n",
    "strategy = 'filt_global'\n",
    "derivative = 'rois_aal'\n",
    "site = 'Yale'"
   ]
  },
  {
   "cell_type": "markdown",
   "metadata": {},
   "source": [
    "## 檔案存檔架構\n",
    "\n",
    "* \n",
    " dataset  \n",
    "   │  \n",
    "   └─── ADIBE I  \n",
    "           │  \n",
    "           └─── 下載檔案類型 (處理工具-處理方式-濾波方式)  \n",
    "                    │  \n",
    "                    ├─── 0 對照組  \n",
    "                    │  \n",
    "                    ├─── 1 ASD患者   \n",
    "                    │   \n",
    "                    └─── 資料蒐集單位  \n",
    "                             │  \n",
    "                             ├─── 0 對照組  \n",
    "                             │  \n",
    "                             └─── 1 ASD患者  \n"
   ]
  },
  {
   "cell_type": "code",
   "execution_count": 5,
   "metadata": {},
   "outputs": [
    {
     "data": {
      "text/plain": [
       "\"\\n# 建立{0,1}資料夾\\npath = 'D:\\\\dataset\\\\ABIDE I\\\\'+pipeline+'-'+derivative+'-'+strategy+'\\\\0'\\nif not os.path.isdir(path):\\n    os.mkdir(path)\\npath = 'D:\\\\dataset\\\\ABIDE I\\\\'+pipeline+'-'+derivative+'-'+strategy+'\\\\1'\\nif not os.path.isdir(path):\\n    os.mkdir(path)\\n\""
      ]
     },
     "execution_count": 5,
     "metadata": {},
     "output_type": "execute_result"
    }
   ],
   "source": [
    "# 建立資料夾\n",
    "# path = 'D:\\\\dataset\\\\ABIDE I\\\\'+pipeline+'-'+derivative+'-'+strategy\n",
    "path = 'D:\\\\ABIDE I\\\\'\n",
    "folder_list = [f for f in listdir(path) if os.path.isdir(os.path.join(path,f))]\n",
    "for folder in folder_list:\n",
    "    class_path = os.path.join(path,folder,'ANTS')\n",
    "    if not os.path.isdir(class_path):\n",
    "        os.mkdir(class_path)\n",
    "# path = 'D:\\\\Project\\\\data\\\\ANTS\\\\'+site\n",
    "\n",
    "    \n",
    "'''\n",
    "# 建立{0,1}資料夾\n",
    "path = 'D:\\\\dataset\\\\ABIDE I\\\\'+pipeline+'-'+derivative+'-'+strategy+'\\\\0'\n",
    "if not os.path.isdir(path):\n",
    "    os.mkdir(path)\n",
    "path = 'D:\\\\dataset\\\\ABIDE I\\\\'+pipeline+'-'+derivative+'-'+strategy+'\\\\1'\n",
    "if not os.path.isdir(path):\n",
    "    os.mkdir(path)\n",
    "'''"
   ]
  },
  {
   "cell_type": "code",
   "execution_count": 6,
   "metadata": {
    "scrolled": true
   },
   "outputs": [
    {
     "name": "stdout",
     "output_type": "stream",
     "text": [
      "0 UM_1_0050272 done!\n",
      "1 UM_1_0050273 done!\n",
      "2 UM_1_0050274 done!\n",
      "3 UM_1_0050275 done!\n",
      "4 UM_1_0050276 done!\n",
      "5 UM_1_0050277 done!\n",
      "6 UM_1_0050278 done!\n",
      "7 UM_1_0050279 done!\n",
      "8 UM_1_0050280 done!\n",
      "9 UM_1_0050281 done!\n",
      "10 UM_1_0050282 done!\n",
      "11 UM_1_0050283 done!\n",
      "12 UM_1_0050284 done!\n",
      "13 UM_1_0050285 done!\n",
      "14 UM_1_0050286 done!\n",
      "15 UM_1_0050287 done!\n",
      "16 UM_1_0050288 done!\n",
      "17 UM_1_0050289 done!\n",
      "18 UM_1_0050290 done!\n",
      "19 UM_1_0050291 done!\n",
      "20 UM_1_0050292 done!\n",
      "21 UM_1_0050293 done!\n",
      "22 UM_1_0050294 done!\n",
      "23 UM_1_0050295 done!\n",
      "24 UM_1_0050296 done!\n",
      "25 UM_1_0050297 done!\n",
      "26 UM_1_0050298 done!\n",
      "27 UM_1_0050299 done!\n",
      "28 UM_1_0050300 done!\n",
      "29 UM_1_0050301 done!\n",
      "30 UM_1_0050302 done!\n",
      "31 UM_1_0050303 done!\n",
      "32 UM_1_0050304 done!\n",
      "33 UM_1_0050305 done!\n",
      "34 UM_1_0050306 done!\n",
      "35 UM_1_0050307 done!\n",
      "36 UM_1_0050308 done!\n",
      "37 UM_1_0050309 done!\n",
      "38 UM_1_0050310 done!\n",
      "39 UM_1_0050311 done!\n",
      "40 UM_1_0050312 done!\n",
      "41 UM_1_0050313 done!\n",
      "42 UM_1_0050314 done!\n",
      "43 UM_1_0050315 done!\n",
      "44 UM_1_0050316 done!\n",
      "45 UM_1_0050317 done!\n",
      "46 UM_1_0050318 done!\n",
      "47 UM_1_0050319 done!\n",
      "48 UM_1_0050321 done!\n",
      "49 UM_1_0050322 done!\n",
      "50 UM_1_0050323 done!\n",
      "51 UM_1_0050324 done!\n",
      "52 UM_1_0050325 done!\n",
      "53 UM_1_0050326 done!\n",
      "54 UM_1_0050327 done!\n",
      "55 UM_1_0050328 done!\n",
      "56 UM_1_0050329 done!\n",
      "57 UM_1_0050330 done!\n",
      "58 UM_1_0050331 done!\n",
      "59 UM_1_0050332 done!\n",
      "60 UM_1_0050333 done!\n",
      "61 UM_1_0050334 done!\n",
      "62 UM_1_0050335 done!\n",
      "63 UM_1_0050336 done!\n",
      "64 UM_1_0050337 done!\n",
      "65 UM_1_0050338 done!\n",
      "66 UM_1_0050339 done!\n",
      "67 UM_1_0050340 done!\n",
      "68 UM_1_0050341 done!\n",
      "69 UM_1_0050342 done!\n",
      "70 UM_1_0050351 done!\n",
      "71 UM_1_0050352 done!\n",
      "72 UM_1_0050353 done!\n",
      "73 UM_1_0050354 done!\n",
      "74 UM_1_0050355 done!\n",
      "75 UM_1_0050356 done!\n",
      "76 UM_1_0050357 done!\n",
      "77 UM_1_0050358 done!\n",
      "78 UM_1_0050359 done!\n",
      "79 UM_1_0050360 done!\n",
      "80 UM_1_0050361 done!\n",
      "81 UM_1_0050362 done!\n",
      "82 UM_1_0050363 done!\n",
      "83 UM_1_0050364 done!\n",
      "84 UM_1_0050365 done!\n",
      "85 UM_1_0050366 done!\n",
      "86 UM_1_0050367 done!\n",
      "87 UM_1_0050368 done!\n",
      "88 UM_1_0050369 done!\n",
      "89 UM_1_0050370 done!\n",
      "90 UM_1_0050371 done!\n",
      "91 UM_1_0050372 done!\n",
      "92 UM_1_0050373 done!\n",
      "93 UM_1_0050374 done!\n",
      "94 UM_1_0050375 done!\n",
      "95 UM_1_0050376 done!\n",
      "96 UM_1_0050377 done!\n",
      "97 UM_1_0050378 done!\n",
      "98 UM_1_0050379 done!\n",
      "99 UM_1_0050380 done!\n",
      "100 UM_1_0050381 done!\n",
      "101 UM_2_0050383 done!\n",
      "102 UM_2_0050385 done!\n",
      "103 UM_2_0050386 done!\n",
      "104 UM_2_0050387 done!\n",
      "105 UM_2_0050390 done!\n",
      "106 UM_2_0050391 done!\n",
      "107 UM_2_0050397 done!\n",
      "108 UM_2_0050399 done!\n",
      "109 UM_2_0050402 done!\n",
      "110 UM_2_0050403 done!\n",
      "111 UM_2_0050404 done!\n",
      "112 UM_2_0050405 done!\n",
      "113 UM_2_0050406 done!\n",
      "114 UM_2_0050407 done!\n",
      "115 UM_2_0050408 done!\n",
      "116 UM_2_0050410 done!\n",
      "117 UM_2_0050411 done!\n",
      "118 UM_2_0050412 done!\n",
      "119 UM_2_0050413 done!\n",
      "120 UM_2_0050414 done!\n",
      "121 UM_2_0050415 done!\n",
      "122 UM_2_0050416 done!\n",
      "123 UM_2_0050417 done!\n",
      "124 UM_2_0050418 done!\n",
      "125 UM_2_0050419 done!\n",
      "126 UM_2_0050421 done!\n",
      "127 UM_2_0050422 done!\n",
      "128 UM_2_0050423 done!\n",
      "129 UM_2_0050424 done!\n",
      "130 UM_2_0050425 done!\n",
      "131 UM_2_0050426 done!\n",
      "132 UM_2_0050427 done!\n",
      "133 UM_2_0050428 done!\n"
     ]
    }
   ],
   "source": [
    "filename = []\n",
    "label = []\n",
    "for folder in folder_list:\n",
    "    for i in range(df.shape[0]):\n",
    "        '''\n",
    "        #建立資料夾\n",
    "        path = 'D:\\\\dataset\\\\ABIDE I\\\\'+pipeline+'-'+derivative+'-'+strategy+'\\\\'+df[\"SITE_ID\"][i]\n",
    "        if not os.path.isdir(path):\n",
    "            os.mkdir(path)\n",
    "        path += '\\\\'+str(df[\"DX_GROUP\"][i])\n",
    "        if not os.path.isdir(path):\n",
    "            os.mkdir(path)\n",
    "        '''\n",
    "\n",
    "        #有檔案id的下載\n",
    "        if(df[\"FILE_ID\"][i] !='no_filename' and df[\"FILE_ID\"][i].startswith(folder)):\n",
    "            filename.append(df[\"FILE_ID\"][i])\n",
    "            label.append(df[\"DX_GROUP\"][i])\n",
    "\n",
    "            #下載來源網址\n",
    "    #         url = 'https://s3.amazonaws.com/fcp-indi/data/Projects/ABIDE_Initiative/Outputs/'+pipeline+'/'+strategy+'/'+derivative+'/'+ df[\"FILE_ID\"][i] +'_'+derivative+'.1D'\n",
    "            url = 'https://s3.amazonaws.com/fcp-indi/data/Projects/ABIDE_Initiative/Outputs/ants/anat_thickness/'+ df[\"FILE_ID\"][i] +'_anat_thickness.nii.gz'\n",
    "\n",
    "            #儲存位置\n",
    "            class_path = os.path.join(path,folder,'ANTS')\n",
    "            urlretrieve(url,class_path+'\\\\'+df[\"FILE_ID\"][i]+'.nii.gz')\n",
    "    #         urlretrieve(url,'D:\\\\dataset\\\\ABIDE I\\\\'+pipeline+'-'+derivative+'-'+strategy+'\\\\'+str(df[\"DX_GROUP\"][i])+'\\\\'+df[\"FILE_ID\"][i]+'.1D')\n",
    "            print(str(i)+\" \"+df[\"FILE_ID\"][i]+\" done!\")\n"
   ]
  },
  {
   "cell_type": "code",
   "execution_count": 28,
   "metadata": {},
   "outputs": [],
   "source": [
    "import pandas as pd\n",
    "\n",
    "title = site+'_anat_thickness' \n",
    "\n",
    "wdf = pd.DataFrame({\n",
    "    \"filename\":filename,\n",
    "    \"label\":label,\n",
    "})\n",
    "wdf.to_csv('D:\\\\Project\\\\label\\\\'+title+'.csv', sep=',',index=False)"
   ]
  },
  {
   "cell_type": "code",
   "execution_count": null,
   "metadata": {},
   "outputs": [],
   "source": []
  }
 ],
 "metadata": {
  "kernelspec": {
   "display_name": "Python 3",
   "language": "python",
   "name": "python3"
  },
  "language_info": {
   "codemirror_mode": {
    "name": "ipython",
    "version": 3
   },
   "file_extension": ".py",
   "mimetype": "text/x-python",
   "name": "python",
   "nbconvert_exporter": "python",
   "pygments_lexer": "ipython3",
   "version": "3.7.0"
  }
 },
 "nbformat": 4,
 "nbformat_minor": 2
}
