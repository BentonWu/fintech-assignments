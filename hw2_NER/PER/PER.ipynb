{
 "cells": [
  {
   "cell_type": "code",
   "execution_count": 1,
   "metadata": {},
   "outputs": [],
   "source": [
    "import os\n",
    "import pandas as pd\n",
    "os.chdir('zh-NER-TF_modify') \n",
    "import main "
   ]
  },
  {
   "cell_type": "code",
   "execution_count": 5,
   "metadata": {},
   "outputs": [],
   "source": [
    "# Load news data and convert it to dataframe\n",
    "NER_folder = os.path.join(os.path.dirname(os.getcwd()), r\"fintech-assignments\\hw2_NER\")\n",
    "\n",
    "PER_data_folder = os.path.join(NER_folder, 'PER')\n",
    "if not os.path.exists(PER_data_folder):\n",
    "    os.mkdir(PER_data_folder)\n",
    "\n",
    "df = pd.read_csv(os.path.join(NER_folder, 'crawl_data_csv', 'news_data.csv'))"
   ]
  },
  {
   "cell_type": "code",
   "execution_count": 6,
   "metadata": {},
   "outputs": [
    {
     "data": {
      "text/html": [
       "<div>\n",
       "<style scoped>\n",
       "    .dataframe tbody tr th:only-of-type {\n",
       "        vertical-align: middle;\n",
       "    }\n",
       "\n",
       "    .dataframe tbody tr th {\n",
       "        vertical-align: top;\n",
       "    }\n",
       "\n",
       "    .dataframe thead th {\n",
       "        text-align: right;\n",
       "    }\n",
       "</style>\n",
       "<table border=\"1\" class=\"dataframe\">\n",
       "  <thead>\n",
       "    <tr style=\"text-align: right;\">\n",
       "      <th></th>\n",
       "      <th>news</th>\n",
       "      <th>keywords</th>\n",
       "      <th>title</th>\n",
       "      <th>link</th>\n",
       "      <th>content</th>\n",
       "      <th>content_cn</th>\n",
       "    </tr>\n",
       "  </thead>\n",
       "  <tbody>\n",
       "    <tr>\n",
       "      <th>0</th>\n",
       "      <td>appledaily</td>\n",
       "      <td>人口販運</td>\n",
       "      <td>台灣捲入跨國人口販運風暴｜蘋果新聞網｜蘋果日報</td>\n",
       "      <td>http://www.appledaily.com.tw/appledaily/articl...</td>\n",
       "      <td>《報導者》獨家授權記者╱《報導者》蔣宜婷、李雪莉 台北─柬埔寨報導台灣已捲入遠洋漁業的人口販...</td>\n",
       "      <td>《报导者》独家授权记者╱《报导者》蒋宜婷、李雪莉 台北─柬埔寨报导台湾已卷入远洋渔业的人口贩...</td>\n",
       "    </tr>\n",
       "    <tr>\n",
       "      <th>1</th>\n",
       "      <td>appledaily</td>\n",
       "      <td>人口販運</td>\n",
       "      <td>​內政部：今年1到9月查緝人口販運被害人安置印尼人最多｜蘋果新聞網 ...</td>\n",
       "      <td>http://www.appledaily.com.tw/realtimenews/arti...</td>\n",
       "      <td>內政部公佈統計數據指出，今年1到9月司法及警察機關查緝人口販運案件共116件，75%為性剝削...</td>\n",
       "      <td>内政部公布统计数据指出，今年1到9月司法及警察机关查缉人口贩运案件共116件，75%为性剥削...</td>\n",
       "    </tr>\n",
       "    <tr>\n",
       "      <th>2</th>\n",
       "      <td>appledaily</td>\n",
       "      <td>人口販運</td>\n",
       "      <td>打擊人口販運台成立防制人口販運國際工作坊| 蘋果日報</td>\n",
       "      <td>http://www.appledaily.com.tw/realtimenews/arti...</td>\n",
       "      <td>內政部「2018防制人口販運國際工作坊」今（25）日盛大揭幕，邀請副總統陳建仁、美國在台協會...</td>\n",
       "      <td>内政部「2018防制人口贩运国际工作坊」今（25）日盛大揭幕，邀请副总统陈建仁、美国在台协会...</td>\n",
       "    </tr>\n",
       "    <tr>\n",
       "      <th>3</th>\n",
       "      <td>appledaily</td>\n",
       "      <td>人口販運</td>\n",
       "      <td>赴美留學成奴隸！洛城破獲大宗人口販賣｜蘋果新聞網｜蘋果日報https://</td>\n",
       "      <td>https://www.appledaily.com.tw/realtimenews/art...</td>\n",
       "      <td>（新增配音影片）洛縣人口販賣執行組周二宣佈，搗破一宗全國性人口販賣案，3日的掃蕩行動中拘捕5...</td>\n",
       "      <td>（新增配音影片）洛县人口贩卖执行组周二宣布，捣破一宗全国性人口贩卖案，3日的扫荡行动中拘捕5...</td>\n",
       "    </tr>\n",
       "    <tr>\n",
       "      <th>4</th>\n",
       "      <td>appledaily</td>\n",
       "      <td>人口販運</td>\n",
       "      <td>美人口販運報告台列最佳等級、中國最差｜蘋果新聞網｜蘋果日報</td>\n",
       "      <td>http://www.appledaily.com.tw/realtimenews/arti...</td>\n",
       "      <td>美國國務院昨日公布年度人口販運問題報告，台灣連續第9年名列最佳第一級國家。中國則被列為人口販...</td>\n",
       "      <td>美国国务院昨日公布年度人口贩运问题报告，台湾连续第9年名列最佳第一级国家。中国则被列为人口贩...</td>\n",
       "    </tr>\n",
       "  </tbody>\n",
       "</table>\n",
       "</div>"
      ],
      "text/plain": [
       "         news keywords                                  title  \\\n",
       "0  appledaily     人口販運                台灣捲入跨國人口販運風暴｜蘋果新聞網｜蘋果日報   \n",
       "1  appledaily     人口販運  ​內政部：今年1到9月查緝人口販運被害人安置印尼人最多｜蘋果新聞網 ...   \n",
       "2  appledaily     人口販運             打擊人口販運台成立防制人口販運國際工作坊| 蘋果日報   \n",
       "3  appledaily     人口販運  赴美留學成奴隸！洛城破獲大宗人口販賣｜蘋果新聞網｜蘋果日報https://   \n",
       "4  appledaily     人口販運          美人口販運報告台列最佳等級、中國最差｜蘋果新聞網｜蘋果日報   \n",
       "\n",
       "                                                link  \\\n",
       "0  http://www.appledaily.com.tw/appledaily/articl...   \n",
       "1  http://www.appledaily.com.tw/realtimenews/arti...   \n",
       "2  http://www.appledaily.com.tw/realtimenews/arti...   \n",
       "3  https://www.appledaily.com.tw/realtimenews/art...   \n",
       "4  http://www.appledaily.com.tw/realtimenews/arti...   \n",
       "\n",
       "                                             content  \\\n",
       "0  《報導者》獨家授權記者╱《報導者》蔣宜婷、李雪莉 台北─柬埔寨報導台灣已捲入遠洋漁業的人口販...   \n",
       "1  內政部公佈統計數據指出，今年1到9月司法及警察機關查緝人口販運案件共116件，75%為性剝削...   \n",
       "2  內政部「2018防制人口販運國際工作坊」今（25）日盛大揭幕，邀請副總統陳建仁、美國在台協會...   \n",
       "3  （新增配音影片）洛縣人口販賣執行組周二宣佈，搗破一宗全國性人口販賣案，3日的掃蕩行動中拘捕5...   \n",
       "4  美國國務院昨日公布年度人口販運問題報告，台灣連續第9年名列最佳第一級國家。中國則被列為人口販...   \n",
       "\n",
       "                                          content_cn  \n",
       "0  《报导者》独家授权记者╱《报导者》蒋宜婷、李雪莉 台北─柬埔寨报导台湾已卷入远洋渔业的人口贩...  \n",
       "1  内政部公布统计数据指出，今年1到9月司法及警察机关查缉人口贩运案件共116件，75%为性剥削...  \n",
       "2  内政部「2018防制人口贩运国际工作坊」今（25）日盛大揭幕，邀请副总统陈建仁、美国在台协会...  \n",
       "3  （新增配音影片）洛县人口贩卖执行组周二宣布，捣破一宗全国性人口贩卖案，3日的扫荡行动中拘捕5...  \n",
       "4  美国国务院昨日公布年度人口贩运问题报告，台湾连续第9年名列最佳第一级国家。中国则被列为人口贩...  "
      ]
     },
     "execution_count": 6,
     "metadata": {},
     "output_type": "execute_result"
    }
   ],
   "source": [
    "df.head()"
   ]
  },
  {
   "cell_type": "code",
   "execution_count": 7,
   "metadata": {},
   "outputs": [
    {
     "name": "stderr",
     "output_type": "stream",
     "text": [
      "{'train_data': 'data_path', 'test_data': 'data_path', 'batch_size': 64, 'epoch': 40, 'hidden_dim': 300, 'optimizer': 'Adam', 'CRF': True, 'lr': 0.001, 'clip': 5.0, 'dropout': 0.5, 'update_embedding': True, 'pretrain_embedding': 'random', 'embedding_dim': 300, 'shuffle': True, 'mode': 'demo', 'demo_model': '1521112368'}\n"
     ]
    },
    {
     "name": "stdout",
     "output_type": "stream",
     "text": [
      "vocab_size: 3905\n",
      "INFO:tensorflow:Restoring parameters from .\\data_path_save\\1521112368\\checkpoints/model-31680\n"
     ]
    },
    {
     "name": "stderr",
     "output_type": "stream",
     "text": [
      "Restoring parameters from .\\data_path_save\\1521112368\\checkpoints/model-31680\n",
      "{'train_data': 'data_path', 'test_data': 'data_path', 'batch_size': 64, 'epoch': 40, 'hidden_dim': 300, 'optimizer': 'Adam', 'CRF': True, 'lr': 0.001, 'clip': 5.0, 'dropout': 0.5, 'update_embedding': True, 'pretrain_embedding': 'random', 'embedding_dim': 300, 'shuffle': True, 'mode': 'demo', 'demo_model': '1521112368'}\n"
     ]
    },
    {
     "name": "stdout",
     "output_type": "stream",
     "text": [
      "['蒋宜婷', '李雪莉'] ['柬埔寨', '台湾', '非营利', '台湾', '台湾'] ['《报导者', '柬埔寨监狱', '柬国法院', '美国国务院']\n",
      "vocab_size: 3905\n",
      "INFO:tensorflow:Restoring parameters from .\\data_path_save\\1521112368\\checkpoints/model-31680\n"
     ]
    },
    {
     "name": "stderr",
     "output_type": "stream",
     "text": [
      "Restoring parameters from .\\data_path_save\\1521112368\\checkpoints/model-31680\n",
      "{'train_data': 'data_path', 'test_data': 'data_path', 'batch_size': 64, 'epoch': 40, 'hidden_dim': 300, 'optimizer': 'Adam', 'CRF': True, 'lr': 0.001, 'clip': 5.0, 'dropout': 0.5, 'update_embedding': True, 'pretrain_embedding': 'random', 'embedding_dim': 300, 'shuffle': True, 'mode': 'demo', 'demo_model': '1521112368'}\n"
     ]
    },
    {
     "name": "stdout",
     "output_type": "stream",
     "text": [
      "['张文馨'] ['印尼', '泰国', '菲律宾'] ['内政部', '内政部']\n",
      "vocab_size: 3905\n",
      "INFO:tensorflow:Restoring parameters from .\\data_path_save\\1521112368\\checkpoints/model-31680\n"
     ]
    },
    {
     "name": "stderr",
     "output_type": "stream",
     "text": [
      "Restoring parameters from .\\data_path_save\\1521112368\\checkpoints/model-31680\n",
      "{'train_data': 'data_path', 'test_data': 'data_path', 'batch_size': 64, 'epoch': 40, 'hidden_dim': 300, 'optimizer': 'Adam', 'CRF': True, 'lr': 0.001, 'clip': 5.0, 'dropout': 0.5, 'update_embedding': True, 'pretrain_embedding': 'random', 'embedding_dim': 300, 'shuffle': True, 'mode': 'demo', 'demo_model': '1521112368'}\n"
     ]
    },
    {
     "name": "stdout",
     "output_type": "stream",
     "text": [
      "['陈建仁', '谷立言', '陈建仁', '谷立言', '罗秉成', '徐国勇', 'Jean', 'Patrick Taran', '吴玉琴', '李丽芬', '陈建仁', '蔡', '陈建仁', '徐国勇', '谷立言', '刘文渊'] ['美国', '美国', '」联系', '平台', '台湾', '欧洲', '地球', '台湾', '美国', '台协', '恭喜台湾', '亚太', '台湾', '美国', '英国', '比利时', '纽西兰', '日本', '菲律宾', '印尼', '香港', '东南亚', '美国', '台北'] ['内政部', '台协会代理处', '台协会代理处', '行政院', '内政部', '美国自由联盟', ' Bruggeman', '全球移民政策协会', '美国国务院', '内政部', '内政部', '联合国']\n",
      "vocab_size: 3905\n",
      "INFO:tensorflow:Restoring parameters from .\\data_path_save\\1521112368\\checkpoints/model-31680\n"
     ]
    },
    {
     "name": "stderr",
     "output_type": "stream",
     "text": [
      "Restoring parameters from .\\data_path_save\\1521112368\\checkpoints/model-31680\n",
      "{'train_data': 'data_path', 'test_data': 'data_path', 'batch_size': 64, 'epoch': 40, 'hidden_dim': 300, 'optimizer': 'Adam', 'CRF': True, 'lr': 0.001, 'clip': 5.0, 'dropout': 0.5, 'update_embedding': True, 'pretrain_embedding': 'random', 'embedding_dim': 300, 'shuffle': True, 'mode': 'demo', 'demo_model': '1521112368'}\n"
     ]
    },
    {
     "name": "stdout",
     "output_type": "stream",
     "text": [
      "['伍国庆', '张紫茵', '洛杉矶'] ['洛县', '加州', '﹑联邦', '﹑州', '美国', '加州', '亚太', '亚', '洛市', '亚', '美国', '印度', '美国', '菲'] ['亚太机构', '洛县警局', '」亚太裔政策与计划议会', 'A3PCON）总监Manjusha Kulkarni', '洛市检察官办公室']\n",
      "vocab_size: 3905\n",
      "INFO:tensorflow:Restoring parameters from .\\data_path_save\\1521112368\\checkpoints/model-31680\n"
     ]
    },
    {
     "name": "stderr",
     "output_type": "stream",
     "text": [
      "Restoring parameters from .\\data_path_save\\1521112368\\checkpoints/model-31680\n",
      "{'train_data': 'data_path', 'test_data': 'data_path', 'batch_size': 64, 'epoch': 40, 'hidden_dim': 300, 'optimizer': 'Adam', 'CRF': True, 'lr': 0.001, 'clip': 5.0, 'dropout': 0.5, 'update_embedding': True, 'pretrain_embedding': 'random', 'embedding_dim': 300, 'shuffle': True, 'mode': 'demo', 'demo_model': '1521112368'}\n"
     ]
    },
    {
     "name": "stdout",
     "output_type": "stream",
     "text": [
      "['史密斯', '庞皮欧'] ['台湾', '中国', '叙利亚', '北韩', '俄罗斯', '台湾', '台湾', '台湾', '台湾', '美国', '中国', '中国', '台湾', '中国', '中国', '中国', '中国', '中国', '中国', '北韩', '美国', 'Ivanka Trump', '美国'] ['美国国务院', '美国国务院', '美国国会', '美国国务院']\n",
      "vocab_size: 3905\n",
      "INFO:tensorflow:Restoring parameters from .\\data_path_save\\1521112368\\checkpoints/model-31680\n"
     ]
    },
    {
     "name": "stderr",
     "output_type": "stream",
     "text": [
      "Restoring parameters from .\\data_path_save\\1521112368\\checkpoints/model-31680\n",
      "{'train_data': 'data_path', 'test_data': 'data_path', 'batch_size': 64, 'epoch': 40, 'hidden_dim': 300, 'optimizer': 'Adam', 'CRF': True, 'lr': 0.001, 'clip': 5.0, 'dropout': 0.5, 'update_embedding': True, 'pretrain_embedding': 'random', 'embedding_dim': 300, 'shuffle': True, 'mode': 'demo', 'demo_model': '1521112368'}\n"
     ]
    },
    {
     "name": "stdout",
     "output_type": "stream",
     "text": [
      "['陈禹先'] ['泰国', '泰国', '台湾', '泰国', '泰国', '台', '泰国', '泰', '泰', '泰', '泰'] ['妇女救援基金会研发部', '嘉义市议员经营酒店', '妇女救援基金会']\n",
      "vocab_size: 3905\n",
      "INFO:tensorflow:Restoring parameters from .\\data_path_save\\1521112368\\checkpoints/model-31680\n"
     ]
    },
    {
     "name": "stderr",
     "output_type": "stream",
     "text": [
      "Restoring parameters from .\\data_path_save\\1521112368\\checkpoints/model-31680\n",
      "{'train_data': 'data_path', 'test_data': 'data_path', 'batch_size': 64, 'epoch': 40, 'hidden_dim': 300, 'optimizer': 'Adam', 'CRF': True, 'lr': 0.001, 'clip': 5.0, 'dropout': 0.5, 'update_embedding': True, 'pretrain_embedding': 'random', 'embedding_dim': 300, 'shuffle': True, 'mode': 'demo', 'demo_model': '1521112368'}\n"
     ]
    },
    {
     "name": "stdout",
     "output_type": "stream",
     "text": [
      "['徐珮君'] ['「台湾', '台湾', '欧', '美', '台北'] ['法务部', '法务部', '法务部', '警政署刑事局', '法务部调查局', '法务部', '外交部']\n",
      "vocab_size: 3905\n",
      "INFO:tensorflow:Restoring parameters from .\\data_path_save\\1521112368\\checkpoints/model-31680\n"
     ]
    },
    {
     "name": "stderr",
     "output_type": "stream",
     "text": [
      "Restoring parameters from .\\data_path_save\\1521112368\\checkpoints/model-31680\n",
      "{'train_data': 'data_path', 'test_data': 'data_path', 'batch_size': 64, 'epoch': 40, 'hidden_dim': 300, 'optimizer': 'Adam', 'CRF': True, 'lr': 0.001, 'clip': 5.0, 'dropout': 0.5, 'update_embedding': True, 'pretrain_embedding': 'random', 'embedding_dim': 300, 'shuffle': True, 'mode': 'demo', 'demo_model': '1521112368'}\n"
     ]
    },
    {
     "name": "stdout",
     "output_type": "stream",
     "text": [
      "['叶俊荣', '傅德恩', '叶俊荣', '叶俊荣', '傅德恩', '傅德恩', '陈建仁', '徐珮君'] ['台湾', '台湾', '美国', '台湾', '台湾', '台湾', '台湾', '亚洲', '亚洲', '台湾', '美国', '台湾', '台湾', '亚洲', '台湾', '台湾', '台北'] ['内政部', '美国国务院', '台协会(AIT)代理处', '美国国务院', '联合国']\n",
      "vocab_size: 3905\n",
      "INFO:tensorflow:Restoring parameters from .\\data_path_save\\1521112368\\checkpoints/model-31680\n"
     ]
    },
    {
     "name": "stderr",
     "output_type": "stream",
     "text": [
      "Restoring parameters from .\\data_path_save\\1521112368\\checkpoints/model-31680\n",
      "{'train_data': 'data_path', 'test_data': 'data_path', 'batch_size': 64, 'epoch': 40, 'hidden_dim': 300, 'optimizer': 'Adam', 'CRF': True, 'lr': 0.001, 'clip': 5.0, 'dropout': 0.5, 'update_embedding': True, 'pretrain_embedding': 'random', 'embedding_dim': 300, 'shuffle': True, 'mode': 'demo', 'demo_model': '1521112368'}\n"
     ]
    },
    {
     "name": "stdout",
     "output_type": "stream",
     "text": [
      "['陈培煌'] ['台', '台湾', '美国', '台湾', '美'] ['外交部', '美国国务院', '外交部', '国及移民署', '外交部']\n",
      "vocab_size: 3905\n",
      "INFO:tensorflow:Restoring parameters from .\\data_path_save\\1521112368\\checkpoints/model-31680\n"
     ]
    },
    {
     "name": "stderr",
     "output_type": "stream",
     "text": [
      "Restoring parameters from .\\data_path_save\\1521112368\\checkpoints/model-31680\n"
     ]
    },
    {
     "name": "stdout",
     "output_type": "stream",
     "text": [
      "['李丽华', '提勒森', '川普', '依凡卡', '陈培煌', '蔡英文'] ['台湾', '台湾', '美国', '美', '台湾', '台湾', '台湾', '台', '美', '美', '台湾', '台湾'] ['美国国务院', '我外交部', '宜兰县渔工职业工会', '美国务院', 'Rex Tillerson', 'Ivanka Trump', '外交部', '外交部', '行政院', '内政部移民署']\n"
     ]
    },
    {
     "data": {
      "text/html": [
       "<div>\n",
       "<style scoped>\n",
       "    .dataframe tbody tr th:only-of-type {\n",
       "        vertical-align: middle;\n",
       "    }\n",
       "\n",
       "    .dataframe tbody tr th {\n",
       "        vertical-align: top;\n",
       "    }\n",
       "\n",
       "    .dataframe thead th {\n",
       "        text-align: right;\n",
       "    }\n",
       "</style>\n",
       "<table border=\"1\" class=\"dataframe\">\n",
       "  <thead>\n",
       "    <tr style=\"text-align: right;\">\n",
       "      <th></th>\n",
       "      <th>news</th>\n",
       "      <th>keywords</th>\n",
       "      <th>title</th>\n",
       "      <th>link</th>\n",
       "      <th>content</th>\n",
       "      <th>content_cn</th>\n",
       "      <th>PER</th>\n",
       "    </tr>\n",
       "  </thead>\n",
       "  <tbody>\n",
       "    <tr>\n",
       "      <th>0</th>\n",
       "      <td>appledaily</td>\n",
       "      <td>人口販運</td>\n",
       "      <td>台灣捲入跨國人口販運風暴｜蘋果新聞網｜蘋果日報</td>\n",
       "      <td>http://www.appledaily.com.tw/appledaily/articl...</td>\n",
       "      <td>《報導者》獨家授權記者╱《報導者》蔣宜婷、李雪莉 台北─柬埔寨報導台灣已捲入遠洋漁業的人口販...</td>\n",
       "      <td>《报导者》独家授权记者╱《报导者》蒋宜婷、李雪莉 台北─柬埔寨报导台湾已卷入远洋渔业的人口贩...</td>\n",
       "      <td>蒋宜婷,李雪莉</td>\n",
       "    </tr>\n",
       "    <tr>\n",
       "      <th>1</th>\n",
       "      <td>appledaily</td>\n",
       "      <td>人口販運</td>\n",
       "      <td>​內政部：今年1到9月查緝人口販運被害人安置印尼人最多｜蘋果新聞網 ...</td>\n",
       "      <td>http://www.appledaily.com.tw/realtimenews/arti...</td>\n",
       "      <td>內政部公佈統計數據指出，今年1到9月司法及警察機關查緝人口販運案件共116件，75%為性剝削...</td>\n",
       "      <td>内政部公布统计数据指出，今年1到9月司法及警察机关查缉人口贩运案件共116件，75%为性剥削...</td>\n",
       "      <td>张文馨</td>\n",
       "    </tr>\n",
       "    <tr>\n",
       "      <th>2</th>\n",
       "      <td>appledaily</td>\n",
       "      <td>人口販運</td>\n",
       "      <td>打擊人口販運台成立防制人口販運國際工作坊| 蘋果日報</td>\n",
       "      <td>http://www.appledaily.com.tw/realtimenews/arti...</td>\n",
       "      <td>內政部「2018防制人口販運國際工作坊」今（25）日盛大揭幕，邀請副總統陳建仁、美國在台協會...</td>\n",
       "      <td>内政部「2018防制人口贩运国际工作坊」今（25）日盛大揭幕，邀请副总统陈建仁、美国在台协会...</td>\n",
       "      <td>陈建仁,谷立言,陈建仁,谷立言,罗秉成,徐国勇,Jean,Patrick Taran,吴玉琴...</td>\n",
       "    </tr>\n",
       "    <tr>\n",
       "      <th>3</th>\n",
       "      <td>appledaily</td>\n",
       "      <td>人口販運</td>\n",
       "      <td>赴美留學成奴隸！洛城破獲大宗人口販賣｜蘋果新聞網｜蘋果日報https://</td>\n",
       "      <td>https://www.appledaily.com.tw/realtimenews/art...</td>\n",
       "      <td>（新增配音影片）洛縣人口販賣執行組周二宣佈，搗破一宗全國性人口販賣案，3日的掃蕩行動中拘捕5...</td>\n",
       "      <td>（新增配音影片）洛县人口贩卖执行组周二宣布，捣破一宗全国性人口贩卖案，3日的扫荡行动中拘捕5...</td>\n",
       "      <td>伍国庆,张紫茵,洛杉矶</td>\n",
       "    </tr>\n",
       "    <tr>\n",
       "      <th>4</th>\n",
       "      <td>appledaily</td>\n",
       "      <td>人口販運</td>\n",
       "      <td>美人口販運報告台列最佳等級、中國最差｜蘋果新聞網｜蘋果日報</td>\n",
       "      <td>http://www.appledaily.com.tw/realtimenews/arti...</td>\n",
       "      <td>美國國務院昨日公布年度人口販運問題報告，台灣連續第9年名列最佳第一級國家。中國則被列為人口販...</td>\n",
       "      <td>美国国务院昨日公布年度人口贩运问题报告，台湾连续第9年名列最佳第一级国家。中国则被列为人口贩...</td>\n",
       "      <td>史密斯,庞皮欧</td>\n",
       "    </tr>\n",
       "    <tr>\n",
       "      <th>5</th>\n",
       "      <td>appledaily</td>\n",
       "      <td>人口販運</td>\n",
       "      <td>非典型人口販運怎麼查｜蘋果新聞網｜蘋果日報</td>\n",
       "      <td>http://www.appledaily.com.tw/realtimenews/arti...</td>\n",
       "      <td>陳禹先／婦女救援基金會研發部副組長自去年爆發嘉義市議員經營酒店，身為民意代表卻知法犯法，非法...</td>\n",
       "      <td>陈禹先／妇女救援基金会研发部副组长自去年爆发嘉义市议员经营酒店，身为民意代表却知法犯法，非法...</td>\n",
       "      <td>陈禹先</td>\n",
       "    </tr>\n",
       "    <tr>\n",
       "      <th>6</th>\n",
       "      <td>appledaily</td>\n",
       "      <td>人口販運</td>\n",
       "      <td>打擊人口販運法務部研議被害人遠距視訊| 蘋果日報</td>\n",
       "      <td>http://www.appledaily.com.tw/realtimenews/arti...</td>\n",
       "      <td>法務部上午在防制人口販運國際工作坊會議中報告「台灣防制人口販運起訴成效」，統計2011年到去...</td>\n",
       "      <td>法务部上午在防制人口贩运国际工作坊会议中报告「台湾防制人口贩运起诉成效」，统计2011年到去...</td>\n",
       "      <td>徐珮君</td>\n",
       "    </tr>\n",
       "    <tr>\n",
       "      <th>7</th>\n",
       "      <td>appledaily</td>\n",
       "      <td>人口販運</td>\n",
       "      <td>AIT也說讚！ 台灣打擊人口販運有世界級標準| 蘋果日報https://</td>\n",
       "      <td>https://www.appledaily.com.tw/realtimenews/art...</td>\n",
       "      <td>內政部長葉俊榮上午參加防制人口販運國際工作坊開幕典禮，他致詞時表示，美國國務院連續8年把台灣...</td>\n",
       "      <td>内政部长叶俊荣上午参加防制人口贩运国际工作坊开幕典礼，他致词时表示，美国国务院连续8年把台湾...</td>\n",
       "      <td>叶俊荣,傅德恩,叶俊荣,叶俊荣,傅德恩,傅德恩,陈建仁,徐珮君</td>\n",
       "    </tr>\n",
       "    <tr>\n",
       "      <th>8</th>\n",
       "      <td>appledaily</td>\n",
       "      <td>人口販運</td>\n",
       "      <td>美人口販運報告​台連續5年列最佳| 蘋果日報</td>\n",
       "      <td>http://www.appledaily.com.tw/realtimenews/arti...</td>\n",
       "      <td>外交部晚間發布新聞稿表示，美國國務院在台北時間晚間發布「2014年人口販運報告」（2014 ...</td>\n",
       "      <td>外交部晚间发布新闻稿表示，美国国务院在台北时间晚间发布「2014年人口贩运报告」（2014 ...</td>\n",
       "      <td>陈培煌</td>\n",
       "    </tr>\n",
       "    <tr>\n",
       "      <th>9</th>\n",
       "      <td>appledaily</td>\n",
       "      <td>人口販運</td>\n",
       "      <td>美人口販運防制報告台灣連8年第一級評等｜蘋果新聞網｜蘋果日報</td>\n",
       "      <td>http://www.appledaily.com.tw/realtimenews/arti...</td>\n",
       "      <td>美國國務院發布「2017年人口販運報告」（2017 Trafficking-in-Perso...</td>\n",
       "      <td>美国国务院发布「2017年人口贩运报告」（2017 Trafficking-in-Perso...</td>\n",
       "      <td>李丽华,提勒森,川普,依凡卡,陈培煌,蔡英文</td>\n",
       "    </tr>\n",
       "    <tr>\n",
       "      <th>10</th>\n",
       "      <td>appledaily</td>\n",
       "      <td>人口販運</td>\n",
       "      <td>防制人口販運台灣不及格| 蘋果日報</td>\n",
       "      <td>http://www.appledaily.com.tw/appledaily/articl...</td>\n",
       "      <td>日昨桃園檢警宣布偵破由前跆拳國手經營的人蛇仲介集團，由東南亞國家和大陸等地以假結婚等名義引進...</td>\n",
       "      <td>日昨桃园检警宣布侦破由前跆拳国手经营的人蛇仲介集团，由东南亚国家和大陆等地以假结婚等名义引进...</td>\n",
       "      <td>NaN</td>\n",
       "    </tr>\n",
       "    <tr>\n",
       "      <th>11</th>\n",
       "      <td>appledaily</td>\n",
       "      <td>人口販運</td>\n",
       "      <td>防制人口販運我成效列最優| 蘋果日報</td>\n",
       "      <td>http://www.appledaily.com.tw/appledaily/articl...</td>\n",
       "      <td>【韓政燕、徐珮君╱綜合報導】美國國務院昨公布二○一○年度人口販運報告，將台灣的防制人口販運成...</td>\n",
       "      <td>【韩政燕、徐珮君╱综合报导】美国国务院昨公布二○一○年度人口贩运报告，将台湾的防制人口贩运成...</td>\n",
       "      <td>NaN</td>\n",
       "    </tr>\n",
       "    <tr>\n",
       "      <th>12</th>\n",
       "      <td>appledaily</td>\n",
       "      <td>人口販運</td>\n",
       "      <td>史上最大宗17越童販運來台｜蘋果新聞網｜蘋果日報</td>\n",
       "      <td>http://www.appledaily.com.tw/appledaily/articl...</td>\n",
       "      <td>【綜合報導】移民署昨宣布破獲成立10年以來國內最大宗兒童販運案，有17名越南籍兒童，透過越南...</td>\n",
       "      <td>【综合报导】移民署昨宣布破获成立10年以来国内最大宗儿童贩运案，有17名越南籍儿童，透过越南...</td>\n",
       "      <td>NaN</td>\n",
       "    </tr>\n",
       "    <tr>\n",
       "      <th>13</th>\n",
       "      <td>appledaily</td>\n",
       "      <td>人口販運</td>\n",
       "      <td>美防制人口販運有功獎項首度有台灣人獲獎| 蘋果日報</td>\n",
       "      <td>http://www.appledaily.com.tw/realtimenews/arti...</td>\n",
       "      <td>美國國務院發布「人口販運報告」，宜蘭縣漁工職業工會的秘書長兼創辦人李麗華獲美國務卿雷克斯‧提...</td>\n",
       "      <td>美国国务院发布「人口贩运报告」，宜兰县渔工职业工会的秘书长兼创办人李丽华获美国务卿雷克斯‧提...</td>\n",
       "      <td>NaN</td>\n",
       "    </tr>\n",
       "    <tr>\n",
       "      <th>14</th>\n",
       "      <td>appledaily</td>\n",
       "      <td>人口販運</td>\n",
       "      <td>涉虐外籍漁工、漁獲回報不實福甡11號調查結果明出爐｜蘋果新聞網 ...</td>\n",
       "      <td>http://www.appledaily.com.tw/realtimenews/arti...</td>\n",
       "      <td>我國籍漁船「福甡(音同深)11號」因違反聯合國國際勞工組織《漁撈工作公約》，今年5月在南非遭...</td>\n",
       "      <td>我国籍渔船「福甡(音同深)11号」因违反联合国国际劳工组织《渔捞工作公约》，今年5月在南非遭...</td>\n",
       "      <td>NaN</td>\n",
       "    </tr>\n",
       "  </tbody>\n",
       "</table>\n",
       "</div>"
      ],
      "text/plain": [
       "          news keywords                                  title  \\\n",
       "0   appledaily     人口販運                台灣捲入跨國人口販運風暴｜蘋果新聞網｜蘋果日報   \n",
       "1   appledaily     人口販運  ​內政部：今年1到9月查緝人口販運被害人安置印尼人最多｜蘋果新聞網 ...   \n",
       "2   appledaily     人口販運             打擊人口販運台成立防制人口販運國際工作坊| 蘋果日報   \n",
       "3   appledaily     人口販運  赴美留學成奴隸！洛城破獲大宗人口販賣｜蘋果新聞網｜蘋果日報https://   \n",
       "4   appledaily     人口販運          美人口販運報告台列最佳等級、中國最差｜蘋果新聞網｜蘋果日報   \n",
       "5   appledaily     人口販運                  非典型人口販運怎麼查｜蘋果新聞網｜蘋果日報   \n",
       "6   appledaily     人口販運               打擊人口販運法務部研議被害人遠距視訊| 蘋果日報   \n",
       "7   appledaily     人口販運   AIT也說讚！ 台灣打擊人口販運有世界級標準| 蘋果日報https://   \n",
       "8   appledaily     人口販運                 美人口販運報告​台連續5年列最佳| 蘋果日報   \n",
       "9   appledaily     人口販運         美人口販運防制報告台灣連8年第一級評等｜蘋果新聞網｜蘋果日報   \n",
       "10  appledaily     人口販運                      防制人口販運台灣不及格| 蘋果日報   \n",
       "11  appledaily     人口販運                     防制人口販運我成效列最優| 蘋果日報   \n",
       "12  appledaily     人口販運               史上最大宗17越童販運來台｜蘋果新聞網｜蘋果日報   \n",
       "13  appledaily     人口販運              美防制人口販運有功獎項首度有台灣人獲獎| 蘋果日報   \n",
       "14  appledaily     人口販運    涉虐外籍漁工、漁獲回報不實福甡11號調查結果明出爐｜蘋果新聞網 ...   \n",
       "\n",
       "                                                 link  \\\n",
       "0   http://www.appledaily.com.tw/appledaily/articl...   \n",
       "1   http://www.appledaily.com.tw/realtimenews/arti...   \n",
       "2   http://www.appledaily.com.tw/realtimenews/arti...   \n",
       "3   https://www.appledaily.com.tw/realtimenews/art...   \n",
       "4   http://www.appledaily.com.tw/realtimenews/arti...   \n",
       "5   http://www.appledaily.com.tw/realtimenews/arti...   \n",
       "6   http://www.appledaily.com.tw/realtimenews/arti...   \n",
       "7   https://www.appledaily.com.tw/realtimenews/art...   \n",
       "8   http://www.appledaily.com.tw/realtimenews/arti...   \n",
       "9   http://www.appledaily.com.tw/realtimenews/arti...   \n",
       "10  http://www.appledaily.com.tw/appledaily/articl...   \n",
       "11  http://www.appledaily.com.tw/appledaily/articl...   \n",
       "12  http://www.appledaily.com.tw/appledaily/articl...   \n",
       "13  http://www.appledaily.com.tw/realtimenews/arti...   \n",
       "14  http://www.appledaily.com.tw/realtimenews/arti...   \n",
       "\n",
       "                                              content  \\\n",
       "0   《報導者》獨家授權記者╱《報導者》蔣宜婷、李雪莉 台北─柬埔寨報導台灣已捲入遠洋漁業的人口販...   \n",
       "1   內政部公佈統計數據指出，今年1到9月司法及警察機關查緝人口販運案件共116件，75%為性剝削...   \n",
       "2   內政部「2018防制人口販運國際工作坊」今（25）日盛大揭幕，邀請副總統陳建仁、美國在台協會...   \n",
       "3   （新增配音影片）洛縣人口販賣執行組周二宣佈，搗破一宗全國性人口販賣案，3日的掃蕩行動中拘捕5...   \n",
       "4   美國國務院昨日公布年度人口販運問題報告，台灣連續第9年名列最佳第一級國家。中國則被列為人口販...   \n",
       "5   陳禹先／婦女救援基金會研發部副組長自去年爆發嘉義市議員經營酒店，身為民意代表卻知法犯法，非法...   \n",
       "6   法務部上午在防制人口販運國際工作坊會議中報告「台灣防制人口販運起訴成效」，統計2011年到去...   \n",
       "7   內政部長葉俊榮上午參加防制人口販運國際工作坊開幕典禮，他致詞時表示，美國國務院連續8年把台灣...   \n",
       "8   外交部晚間發布新聞稿表示，美國國務院在台北時間晚間發布「2014年人口販運報告」（2014 ...   \n",
       "9   美國國務院發布「2017年人口販運報告」（2017 Trafficking-in-Perso...   \n",
       "10  日昨桃園檢警宣布偵破由前跆拳國手經營的人蛇仲介集團，由東南亞國家和大陸等地以假結婚等名義引進...   \n",
       "11  【韓政燕、徐珮君╱綜合報導】美國國務院昨公布二○一○年度人口販運報告，將台灣的防制人口販運成...   \n",
       "12  【綜合報導】移民署昨宣布破獲成立10年以來國內最大宗兒童販運案，有17名越南籍兒童，透過越南...   \n",
       "13  美國國務院發布「人口販運報告」，宜蘭縣漁工職業工會的秘書長兼創辦人李麗華獲美國務卿雷克斯‧提...   \n",
       "14  我國籍漁船「福甡(音同深)11號」因違反聯合國國際勞工組織《漁撈工作公約》，今年5月在南非遭...   \n",
       "\n",
       "                                           content_cn  \\\n",
       "0   《报导者》独家授权记者╱《报导者》蒋宜婷、李雪莉 台北─柬埔寨报导台湾已卷入远洋渔业的人口贩...   \n",
       "1   内政部公布统计数据指出，今年1到9月司法及警察机关查缉人口贩运案件共116件，75%为性剥削...   \n",
       "2   内政部「2018防制人口贩运国际工作坊」今（25）日盛大揭幕，邀请副总统陈建仁、美国在台协会...   \n",
       "3   （新增配音影片）洛县人口贩卖执行组周二宣布，捣破一宗全国性人口贩卖案，3日的扫荡行动中拘捕5...   \n",
       "4   美国国务院昨日公布年度人口贩运问题报告，台湾连续第9年名列最佳第一级国家。中国则被列为人口贩...   \n",
       "5   陈禹先／妇女救援基金会研发部副组长自去年爆发嘉义市议员经营酒店，身为民意代表却知法犯法，非法...   \n",
       "6   法务部上午在防制人口贩运国际工作坊会议中报告「台湾防制人口贩运起诉成效」，统计2011年到去...   \n",
       "7   内政部长叶俊荣上午参加防制人口贩运国际工作坊开幕典礼，他致词时表示，美国国务院连续8年把台湾...   \n",
       "8   外交部晚间发布新闻稿表示，美国国务院在台北时间晚间发布「2014年人口贩运报告」（2014 ...   \n",
       "9   美国国务院发布「2017年人口贩运报告」（2017 Trafficking-in-Perso...   \n",
       "10  日昨桃园检警宣布侦破由前跆拳国手经营的人蛇仲介集团，由东南亚国家和大陆等地以假结婚等名义引进...   \n",
       "11  【韩政燕、徐珮君╱综合报导】美国国务院昨公布二○一○年度人口贩运报告，将台湾的防制人口贩运成...   \n",
       "12  【综合报导】移民署昨宣布破获成立10年以来国内最大宗儿童贩运案，有17名越南籍儿童，透过越南...   \n",
       "13  美国国务院发布「人口贩运报告」，宜兰县渔工职业工会的秘书长兼创办人李丽华获美国务卿雷克斯‧提...   \n",
       "14  我国籍渔船「福甡(音同深)11号」因违反联合国国际劳工组织《渔捞工作公约》，今年5月在南非遭...   \n",
       "\n",
       "                                                  PER  \n",
       "0                                             蒋宜婷,李雪莉  \n",
       "1                                                 张文馨  \n",
       "2   陈建仁,谷立言,陈建仁,谷立言,罗秉成,徐国勇,Jean,Patrick Taran,吴玉琴...  \n",
       "3                                         伍国庆,张紫茵,洛杉矶  \n",
       "4                                             史密斯,庞皮欧  \n",
       "5                                                 陈禹先  \n",
       "6                                                 徐珮君  \n",
       "7                     叶俊荣,傅德恩,叶俊荣,叶俊荣,傅德恩,傅德恩,陈建仁,徐珮君  \n",
       "8                                                 陈培煌  \n",
       "9                              李丽华,提勒森,川普,依凡卡,陈培煌,蔡英文  \n",
       "10                                                NaN  \n",
       "11                                                NaN  \n",
       "12                                                NaN  \n",
       "13                                                NaN  \n",
       "14                                                NaN  "
      ]
     },
     "execution_count": 7,
     "metadata": {},
     "output_type": "execute_result"
    }
   ],
   "source": [
    "# Put the result to zh-NER-TF model\n",
    "index = 0\n",
    "for text in df['content_cn'].tolist():\n",
    "    NER_result = main.do_NER(mode = 'demo', demo_model = '1521112368', demo_text = text)\n",
    "    if NER_result == None:\n",
    "        index += 1\n",
    "        continue\n",
    "    PER = NER_result['PER']\n",
    "    PER_string = ','.join(PER)\n",
    "    df.at[index, 'PER'] = PER_string\n",
    "    index += 1\n",
    "    if index == 10:\n",
    "        break\n",
    "    \n",
    "df.head(15)"
   ]
  },
  {
   "cell_type": "code",
   "execution_count": null,
   "metadata": {},
   "outputs": [],
   "source": []
  }
 ],
 "metadata": {
  "kernelspec": {
   "display_name": "Python 3",
   "language": "python",
   "name": "python3"
  },
  "language_info": {
   "codemirror_mode": {
    "name": "ipython",
    "version": 3
   },
   "file_extension": ".py",
   "mimetype": "text/x-python",
   "name": "python",
   "nbconvert_exporter": "python",
   "pygments_lexer": "ipython3",
   "version": "3.7.3"
  }
 },
 "nbformat": 4,
 "nbformat_minor": 2
}
