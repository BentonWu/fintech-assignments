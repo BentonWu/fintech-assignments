{
 "cells": [
  {
   "cell_type": "code",
   "execution_count": 5,
   "metadata": {},
   "outputs": [],
   "source": [
    "import requests\n",
    "from bs4 import BeautifulSoup"
   ]
  },
  {
   "cell_type": "code",
   "execution_count": 203,
   "metadata": {},
   "outputs": [
    {
     "data": {
      "text/plain": [
       "'[{\"sentence\": \"美國參議院針對今天總統布什所提名的勞工部長趙小蘭展開認可聽證會，預料趙小蘭將會很順利通過參議院支持，成為美國有史以來第一位的華裔女性內閣成員。\", \"items\": [{\"span\": [0, 5], \"ne\": \"ORG\"}, {\"span\": [7, 9], \"ne\": \"DATE\"}, {\"span\": [11, 13], \"ne\": \"PERSON\"}, {\"span\": [17, 21], \"ne\": \"ORG\"}, {\"span\": [21, 24], \"ne\": \"PERSON\"}, {\"span\": [34, 37], \"ne\": \"PERSON\"}, {\"span\": [44, 47], \"ne\": \"ORG\"}, {\"span\": [52, 54], \"ne\": \"GPE\"}, {\"span\": [58, 60], \"ne\": \"ORDINAL\"}, {\"span\": [62, 64], \"ne\": \"NORP\"}]}]'"
      ]
     },
     "execution_count": 203,
     "metadata": {},
     "output_type": "execute_result"
    }
   ],
   "source": [
    "data={\"text\":\"美國參議院針對今天總統布什所提名的勞工部長趙小蘭展開認可聽證會，預料趙小蘭將會很順利通過參議院支持，成為美國有史以來第一位的華裔女性內閣成員。\",\"type\":\"ws\"}\n",
    "url=\"http://ckip.iis.sinica.edu.tw/service/ner/ner\"\n",
    "headers= {\n",
    "            'Content-Type': 'application/json'\n",
    "          }\n",
    "result = requests.post(url, json=data,headers=headers).text\n",
    "result"
   ]
  },
  {
   "cell_type": "code",
   "execution_count": 204,
   "metadata": {},
   "outputs": [
    {
     "name": "stdout",
     "output_type": "stream",
     "text": [
      "美國參議院 : \"ORG \"\n",
      "今天 : \"DATE \"\n",
      "布什 : \"PERSON \"\n",
      "勞工部長 : \"ORG \"\n",
      "趙小蘭 : \"PERSON \"\n",
      "趙小蘭 : \"PERSON \"\n",
      "參議院 : \"ORG \"\n",
      "美國 : \"GPE \"\n",
      "第一 : \"ORDINAL \"\n",
      "華裔 : \"NORP \"\n"
     ]
    }
   ],
   "source": [
    "stringlist = result.split('[')\n",
    "stringlist = stringlist[3:]\n",
    "for i in range(10) :\n",
    "        a=stringlist[i]\n",
    "        iwantstring = a[0:a.find('}')]\n",
    "        tagstring = a[a.find(': \"'):a.find('\"}')]\n",
    "        front = iwantstring[0:iwantstring.find(',')]\n",
    "        letter1 = iwantstring[iwantstring.find(', '):iwantstring.find(']')]\n",
    "        letter2 = letter1[letter1.find(' '):]\n",
    "        intfront = int(front)\n",
    "        intlater = int(letter2)\n",
    "        \n",
    "        print(text[intfront:intlater],tagstring,'\"')"
   ]
  },
  {
   "cell_type": "code",
   "execution_count": null,
   "metadata": {},
   "outputs": [],
   "source": []
  }
 ],
 "metadata": {
  "kernelspec": {
   "display_name": "Python 3",
   "language": "python",
   "name": "python3"
  },
  "language_info": {
   "codemirror_mode": {
    "name": "ipython",
    "version": 3
   },
   "file_extension": ".py",
   "mimetype": "text/x-python",
   "name": "python",
   "nbconvert_exporter": "python",
   "pygments_lexer": "ipython3",
   "version": "3.7.1"
  }
 },
 "nbformat": 4,
 "nbformat_minor": 2
}
